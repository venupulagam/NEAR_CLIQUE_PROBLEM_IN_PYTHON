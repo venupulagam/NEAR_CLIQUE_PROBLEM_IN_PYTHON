{
 "cells": [
  {
   "cell_type": "code",
   "execution_count": 4,
   "id": "aab9f93b",
   "metadata": {},
   "outputs": [
    {
     "name": "stdout",
     "output_type": "stream",
     "text": [
      "Requirement already satisfied: gurobipy in c:\\users\\velag\\anaconda3\\lib\\site-packages (10.0.0)\n"
     ]
    }
   ],
   "source": [
    "!pip install gurobipy"
   ]
  },
  {
   "cell_type": "markdown",
   "id": "d18b0986",
   "metadata": {},
   "source": [
    "# MAXIMUM CLIQUE SIZE PROBLEM"
   ]
  },
  {
   "cell_type": "code",
   "execution_count": 27,
   "id": "4e78b487",
   "metadata": {},
   "outputs": [
    {
     "name": "stdout",
     "output_type": "stream",
     "text": [
      "[1, 7, 8, 2, 6]\n"
     ]
    }
   ],
   "source": [
    "import networkx as nx\n",
    "\n",
    "def find_max_near_clique(graph):\n",
    "    max_size = 3\n",
    "    max_clique = set()\n",
    "    for clique in nx.find_cliques(graph):\n",
    "        if len(clique) > max_size:\n",
    "            max_size = len(clique)\n",
    "            max_clique = clique\n",
    "    return max_clique\n",
    "\n",
    "# Example usage:\n",
    "G = nx.Graph()\n",
    "G.add_edges_from([(1, 2), (1, 3),  (1, 4), (1, 5), (1, 6),  (1, 7), (1, 8), (2, 6), (2,7), (2,8),(3,4), (3,5),  (3,7), (4,7), (5, 7),  (5, 8), (6,7), ( 6,8),(7,8) ])\n",
    "print(find_max_near_clique(G))"
   ]
  },
  {
   "cell_type": "markdown",
   "id": "05def348",
   "metadata": {},
   "source": [
    "# Largest"
   ]
  },
  {
   "cell_type": "code",
   "execution_count": 9,
   "id": "d51ad706",
   "metadata": {},
   "outputs": [
    {
     "name": "stdout",
     "output_type": "stream",
     "text": [
      "Gurobi Optimizer version 10.0.0 build v10.0.0rc2 (win64)\n",
      "\n",
      "CPU model: Intel(R) Core(TM) i5-8250U CPU @ 1.60GHz, instruction set [SSE2|AVX|AVX2]\n",
      "Thread count: 4 physical cores, 8 logical processors, using up to 8 threads\n",
      "\n",
      "Optimize a model with 10 rows, 4 columns and 20 nonzeros\n",
      "Model fingerprint: 0x9f3ddf72\n",
      "Variable types: 0 continuous, 4 integer (4 binary)\n",
      "Coefficient statistics:\n",
      "  Matrix range     [1e+00, 1e+00]\n",
      "  Objective range  [2e+00, 5e+00]\n",
      "  Bounds range     [1e+00, 1e+00]\n",
      "  RHS range        [1e+00, 1e+00]\n",
      "Found heuristic solution: objective 7.0000000\n",
      "Presolve removed 10 rows and 4 columns\n",
      "Presolve time: 0.00s\n",
      "Presolve: All rows and columns removed\n",
      "\n",
      "Explored 0 nodes (0 simplex iterations) in 0.01 seconds (0.00 work units)\n",
      "Thread count was 1 (of 8 available processors)\n",
      "\n",
      "Solution count 1: 7 \n",
      "\n",
      "Optimal solution found (tolerance 1.00e-04)\n",
      "Best objective 7.000000000000e+00, best bound 7.000000000000e+00, gap 0.0000%\n",
      "Optimal subgraph:  [0, 3]\n"
     ]
    }
   ],
   "source": [
    "import numpy as np\n",
    "import gurobipy as gp\n",
    "\n",
    "# Adjacency matrix of the graph\n",
    "A = np.array([[0, 1, 1, 0],\n",
    "              [1, 0, 1, 1],\n",
    "              [1, 1, 0, 1],\n",
    "              [0, 1, 1, 0]])\n",
    "\n",
    "# Density vector\n",
    "d = np.array([2, 3, 4, 5])\n",
    "\n",
    "# Create a new model from imported gurobi library\n",
    "m = gp.Model()\n",
    "\n",
    "# Add binary variables for each node in the graph, These variables represent whether a node is included in the subgraph or not.\n",
    "x = m.addVars(A.shape[0], vtype=gp.GRB.BINARY)\n",
    "\n",
    "# Add objective function to maximize the density of the sub graph\n",
    "m.setObjective(gp.quicksum(d[i]*x[i] for i in range(A.shape[0])), gp.GRB.MAXIMIZE)\n",
    "\n",
    "# Add constraints for the adjacency matrix using nested loop\n",
    "for i in range(A.shape[0]):\n",
    "    for j in range(A.shape[1]):\n",
    "        if A[i,j] == 1:\n",
    "            m.addConstr(x[i] + x[j] <= 1) # this ensures that two adjacent nodes in the graph cannot both be included in the subgraph.\n",
    "\n",
    "# Optimize the model\n",
    "m.optimize()\n",
    "\n",
    "# Print the optimal solution\n",
    "print(\"Optimal subgraph: \", [i for i in range(A.shape[0]) if x[i].x == 1])\n",
    "\n"
   ]
  },
  {
   "cell_type": "markdown",
   "id": "48baf2d1",
   "metadata": {},
   "source": [
    "# with connectivity constrain\n"
   ]
  },
  {
   "cell_type": "code",
   "execution_count": 10,
   "id": "0d057b23",
   "metadata": {},
   "outputs": [
    {
     "name": "stdout",
     "output_type": "stream",
     "text": [
      "Gurobi Optimizer version 10.0.0 build v10.0.0rc2 (win64)\n",
      "\n",
      "CPU model: Intel(R) Core(TM) i5-8250U CPU @ 1.60GHz, instruction set [SSE2|AVX|AVX2]\n",
      "Thread count: 4 physical cores, 8 logical processors, using up to 8 threads\n",
      "\n",
      "Optimize a model with 11 rows, 4 columns and 24 nonzeros\n",
      "Model fingerprint: 0x676248a7\n",
      "Variable types: 0 continuous, 4 integer (4 binary)\n",
      "Coefficient statistics:\n",
      "  Matrix range     [1e+00, 1e+00]\n",
      "  Objective range  [2e+00, 5e+00]\n",
      "  Bounds range     [1e+00, 1e+00]\n",
      "  RHS range        [1e+00, 1e+00]\n",
      "Found heuristic solution: objective 7.0000000\n",
      "Presolve removed 11 rows and 4 columns\n",
      "Presolve time: 0.00s\n",
      "Presolve: All rows and columns removed\n",
      "\n",
      "Explored 0 nodes (0 simplex iterations) in 0.01 seconds (0.00 work units)\n",
      "Thread count was 1 (of 8 available processors)\n",
      "\n",
      "Solution count 1: 7 \n",
      "\n",
      "Optimal solution found (tolerance 1.00e-04)\n",
      "Best objective 7.000000000000e+00, best bound 7.000000000000e+00, gap 0.0000%\n",
      "Optimal subgraph:  [0, 3]\n"
     ]
    }
   ],
   "source": [
    "import numpy as np\n",
    "import gurobipy as gp\n",
    "\n",
    "# Adjacency matrix of the graph\n",
    "A = np.array([[0, 1, 1, 0],\n",
    "              [1, 0, 1, 1],\n",
    "              [1, 1, 0, 1],\n",
    "              [0, 1, 1, 0]])\n",
    "\n",
    "# Density vector\n",
    "d = np.array([2, 3, 4, 5])\n",
    "\n",
    "# Create a new model from imported gurobi library\n",
    "m = gp.Model()\n",
    "\n",
    "# Add binary variables for each node in the graph, These variables represent whether a node is included in the subgraph or not.\n",
    "x = m.addVars(A.shape[0], vtype=gp.GRB.BINARY)\n",
    "\n",
    "# Add objective function to maximize the density of the sub graph\n",
    "m.setObjective(gp.quicksum(d[i]*x[i] for i in range(A.shape[0])), gp.GRB.MAXIMIZE)\n",
    "\n",
    "# Add constraints for the adjacency matrix using nested loop\n",
    "for i in range(A.shape[0]):\n",
    "    for j in range(A.shape[1]):\n",
    "        if A[i,j] == 1:\n",
    "            m.addConstr(x[i] + x[j] <= 1) # this ensures that two adjacent nodes in the graph cannot both be included in the subgraph.\n",
    "\n",
    "\n",
    "#connectivity constraint is added to ensure that the resulting subgraph is connected\n",
    "m.addConstr(gp.quicksum(x[i] for i in range(A.shape[0])) >= 1)\n",
    "\n",
    "# Optimize the model\n",
    "m.optimize()\n",
    "\n",
    "# Print the optimal solution\n",
    "print(\"Optimal subgraph: \", [i for i in range(A.shape[0]) if x[i].x == 1])\n"
   ]
  },
  {
   "cell_type": "markdown",
   "id": "6a1e674f",
   "metadata": {},
   "source": [
    "# For weighted graph"
   ]
  },
  {
   "cell_type": "code",
   "execution_count": 15,
   "id": "500b6064",
   "metadata": {},
   "outputs": [
    {
     "name": "stdout",
     "output_type": "stream",
     "text": [
      "Gurobi Optimizer version 10.0.0 build v10.0.0rc2 (mac64[rosetta2])\n",
      "\n",
      "CPU model: Apple M1\n",
      "Thread count: 8 physical cores, 8 logical processors, using up to 8 threads\n",
      "\n",
      "Optimize a model with 31 rows, 20 columns and 74 nonzeros\n",
      "Model fingerprint: 0x28177527\n",
      "Variable types: 0 continuous, 20 integer (20 binary)\n",
      "Coefficient statistics:\n",
      "  Matrix range     [1e+00, 1e+00]\n",
      "  Objective range  [1e+00, 5e+00]\n",
      "  Bounds range     [1e+00, 1e+00]\n",
      "  RHS range        [1e+00, 1e+00]\n",
      "Found heuristic solution: objective 41.0000000\n",
      "\n",
      "Explored 0 nodes (0 simplex iterations) in 0.05 seconds (0.00 work units)\n",
      "Thread count was 1 (of 8 available processors)\n",
      "\n",
      "Solution count 1: 41 \n",
      "\n",
      "Optimal solution found (tolerance 1.00e-04)\n",
      "Best objective 4.100000000000e+01, best bound 4.100000000000e+01, gap 0.0000%\n",
      "Optimal subgraph:  [0, 1, 2, 3]\n"
     ]
    }
   ],
   "source": [
    "import numpy as np\n",
    "import gurobipy as gp\n",
    "\n",
    "# Adjacency matrix of the graph, specified values are the weights of the edges.\n",
    "A = np.array([[0, 2, 3, 0],\n",
    "              [4, 0, 2, 5],\n",
    "              [1, 3, 0, 4],\n",
    "              [0, 2, 1, 0]])\n",
    "\n",
    "# Density vector\n",
    "d = np.array([2, 3, 4, 5])\n",
    "\n",
    "# Create a new model from imported gurobi library\n",
    "m = gp.Model()\n",
    "\n",
    "# Add binary variables for each node in the graph, These variables represent whether a node is included in the subgraph or not.\n",
    "x = m.addVars(A.shape[0], vtype=gp.GRB.BINARY)\n",
    "\n",
    "# Add variables for the edge weights\n",
    "y = m.addVars(A.shape[0], A.shape[1], vtype=gp.GRB.BINARY)\n",
    "\n",
    "# Add objective function to maximize the density of the sub graph\n",
    "m.setObjective(gp.quicksum(d[i]*x[i] for i in range(A.shape[0]))+gp.quicksum(A[i,j]*y[i,j] for i in range(A.shape[0]) for j in range(A.shape[1])), gp.GRB.MAXIMIZE)\n",
    "\n",
    "# Add constraints for the adjacency matrix using nested loop\n",
    "for i in range(A.shape[0]):\n",
    "    for j in range(A.shape[1]):\n",
    "        if A[i,j] != 0:\n",
    "            m.addConstr(y[i,j] <= x[i])\n",
    "            m.addConstr(y[i,j] <= x[j])\n",
    "            m.addConstr(y[i,j] >= x[i] + x[j] - 1)\n",
    "\n",
    "#connectivity constraint is added to ensure that the resulting subgraph is connected\n",
    "m.addConstr(gp.quicksum(x[i] for i in range(A.shape[0])) >= 1)\n",
    "\n",
    "# Optimize the model\n",
    "m.optimize()\n",
    "\n",
    "# Print the optimal solution\n",
    "print(\"Optimal subgraph: \", [i for i in range(A.shape[0]) if x[i].x == 1])\n"
   ]
  },
  {
   "cell_type": "markdown",
   "id": "14480c0f",
   "metadata": {},
   "source": [
    "# Inverse "
   ]
  },
  {
   "cell_type": "code",
   "execution_count": 23,
   "id": "e79922e2",
   "metadata": {},
   "outputs": [
    {
     "name": "stdout",
     "output_type": "stream",
     "text": [
      "Gurobi Optimizer version 10.0.0 build v10.0.0rc2 (win64)\n",
      "\n",
      "CPU model: Intel(R) Core(TM) i5-8250U CPU @ 1.60GHz, instruction set [SSE2|AVX|AVX2]\n",
      "Thread count: 4 physical cores, 8 logical processors, using up to 8 threads\n",
      "\n",
      "Optimize a model with 4 rows, 4 columns and 8 nonzeros\n",
      "Model fingerprint: 0x2a47e567\n",
      "Variable types: 0 continuous, 4 integer (4 binary)\n",
      "Coefficient statistics:\n",
      "  Matrix range     [1e+00, 1e+00]\n",
      "  Objective range  [1e+00, 1e+00]\n",
      "  Bounds range     [1e+00, 1e+00]\n",
      "  RHS range        [1e+00, 1e+00]\n",
      "Found heuristic solution: objective 2.0000000\n",
      "Presolve removed 4 rows and 4 columns\n",
      "Presolve time: 0.00s\n",
      "Presolve: All rows and columns removed\n",
      "\n",
      "Explored 0 nodes (0 simplex iterations) in 0.01 seconds (0.00 work units)\n",
      "Thread count was 1 (of 8 available processors)\n",
      "\n",
      "Solution count 1: 2 \n",
      "\n",
      "Optimal solution found (tolerance 1.00e-04)\n",
      "Best objective 2.000000000000e+00, best bound 2.000000000000e+00, gap 0.0000%\n",
      "Optimal inverse near clique:  [0, 1]\n"
     ]
    }
   ],
   "source": [
    "import numpy as np\n",
    "import gurobipy as gp\n",
    "\n",
    "# Adjacency matrix of the graph\n",
    "A = np.array([[0, 0, 1, 0],\n",
    "              [0, 0, 1, 1],\n",
    "              [1, 1, 0, 1],\n",
    "              [0, 1, 1, 0]])\n",
    "# Add binary variables for each node in the graph, These variables represent whether a node is included in the subgraph or not.\n",
    "m = gp.Model()\n",
    "\n",
    "x = m.addVars(A.shape[0], vtype=gp.GRB.BINARY)\n",
    "\n",
    "# Add objective function to minimize the number of nodes in the subgraph\n",
    "m.setObjective(gp.quicksum(x[i] for i in range(A.shape[0])), gp.GRB.MINIMIZE)\n",
    "\n",
    "# Add constraints for the adjacency matrix using nested loop\n",
    "for i in range(A.shape[0]):\n",
    "    for j in range(i+1,A.shape[1]):\n",
    "        if A[i,j] == 1:\n",
    "            m.addConstr(x[i] + x[j] >= 1)\n",
    "\n",
    "# Optimize the model\n",
    "m.optimize()\n",
    "\n",
    "# Print the optimal solution\n",
    "print(\"Optimal inverse near clique: \", [i for i in range(A.shape[0]) if x[i].x == 0])\n"
   ]
  },
  {
   "cell_type": "code",
   "execution_count": 12,
   "id": "2f55a467",
   "metadata": {},
   "outputs": [
    {
     "name": "stdout",
     "output_type": "stream",
     "text": [
      "Gurobi Optimizer version 10.0.0 build v10.0.0rc2 (win64)\n",
      "\n",
      "CPU model: Intel(R) Core(TM) i5-8250U CPU @ 1.60GHz, instruction set [SSE2|AVX|AVX2]\n",
      "Thread count: 4 physical cores, 8 logical processors, using up to 8 threads\n",
      "\n",
      "Optimize a model with 5 rows, 4 columns and 10 nonzeros\n",
      "Model fingerprint: 0xc769fbcb\n",
      "Variable types: 0 continuous, 4 integer (4 binary)\n",
      "Coefficient statistics:\n",
      "  Matrix range     [1e+00, 1e+00]\n",
      "  Objective range  [1e+00, 1e+00]\n",
      "  Bounds range     [1e+00, 1e+00]\n",
      "  RHS range        [1e+00, 1e+00]\n",
      "Found heuristic solution: objective 2.0000000\n",
      "Presolve removed 5 rows and 4 columns\n",
      "Presolve time: 0.00s\n",
      "Presolve: All rows and columns removed\n",
      "\n",
      "Explored 0 nodes (0 simplex iterations) in 0.02 seconds (0.00 work units)\n",
      "Thread count was 1 (of 8 available processors)\n",
      "\n",
      "Solution count 1: 2 \n",
      "\n",
      "Optimal solution found (tolerance 1.00e-04)\n",
      "Best objective 2.000000000000e+00, best bound 2.000000000000e+00, gap 0.0000%\n",
      "Optimal inverse near clique:  [0, 3]\n"
     ]
    }
   ],
   "source": [
    "import numpy as np\n",
    "import gurobipy as gp\n",
    "\n",
    "# Adjacency matrix of the graph\n",
    "A = np.array([[0, 1, 1, 0],\n",
    "              [1, 0, 1, 1],\n",
    "              [1, 1, 0, 1],\n",
    "              [0, 1, 1, 0]])\n",
    "\n",
    "# Create a new model from imported gurobi library\n",
    "m = gp.Model()\n",
    "\n",
    "# Add binary variables for each node in the graph, These variables represent whether a node is included in the subgraph or not.\n",
    "x = m.addVars(A.shape[0], vtype=gp.GRB.BINARY)\n",
    "\n",
    "# Add objective function to maximize the number of non-near-clique nodes\n",
    "m.setObjective(gp.quicksum(x[i] for i in range(A.shape[0])), gp.GRB.MAXIMIZE)\n",
    "\n",
    "# Add constraints for the adjacency matrix using nested loop\n",
    "for i in range(A.shape[0]):\n",
    "    for j in range(i+1,A.shape[1]):\n",
    "        if A[i,j] == 1:\n",
    "            m.addConstr(x[i] + x[j] <= 1)\n",
    "\n",
    "# Optimize the model\n",
    "m.optimize()\n",
    "\n",
    "# Print the optimal solution\n",
    "print(\"Optimal inverse near clique: \", [i for i in range(A.shape[0]) if x[i].x == 1])"
   ]
  },
  {
   "cell_type": "markdown",
   "id": "6160de3b",
   "metadata": {},
   "source": [
    "# MOTIF "
   ]
  },
  {
   "cell_type": "code",
   "execution_count": 24,
   "id": "845a356c",
   "metadata": {},
   "outputs": [
    {
     "name": "stdout",
     "output_type": "stream",
     "text": [
      "Gurobi Optimizer version 10.0.0 build v10.0.0rc2 (win64)\n",
      "\n",
      "CPU model: Intel(R) Core(TM) i5-8250U CPU @ 1.60GHz, instruction set [SSE2|AVX|AVX2]\n",
      "Thread count: 4 physical cores, 8 logical processors, using up to 8 threads\n",
      "\n",
      "Optimize a model with 10 rows, 16 columns and 28 nonzeros\n",
      "Model fingerprint: 0x44d4b76d\n",
      "Variable types: 0 continuous, 16 integer (16 binary)\n",
      "Coefficient statistics:\n",
      "  Matrix range     [1e+00, 1e+00]\n",
      "  Objective range  [1e+00, 1e+00]\n",
      "  Bounds range     [1e+00, 1e+00]\n",
      "  RHS range        [3e+00, 3e+00]\n",
      "Found heuristic solution: objective 12.0000000\n",
      "Presolve removed 6 rows and 6 columns\n",
      "Presolve time: 0.00s\n",
      "Presolved: 4 rows, 10 columns, 16 nonzeros\n",
      "Variable types: 0 continuous, 10 integer (10 binary)\n",
      "\n",
      "Root relaxation: cutoff, 4 iterations, 0.00 seconds (0.00 work units)\n",
      "\n",
      "    Nodes    |    Current Node    |     Objective Bounds      |     Work\n",
      " Expl Unexpl |  Obj  Depth IntInf | Incumbent    BestBd   Gap | It/Node Time\n",
      "\n",
      "     0     0     cutoff    0        12.00000   12.00000  0.00%     -    0s\n",
      "\n",
      "Explored 1 nodes (4 simplex iterations) in 0.01 seconds (0.00 work units)\n",
      "Thread count was 8 (of 8 available processors)\n",
      "\n",
      "Solution count 1: 12 \n",
      "\n",
      "Optimal solution found (tolerance 1.00e-04)\n",
      "Best objective 1.200000000000e+01, best bound 1.200000000000e+01, gap 0.0000%\n",
      "Optimal motif:  [(0, 0), (0, 2), (0, 3), (1, 1), (1, 2), (1, 3), (2, 0), (2, 1), (2, 3), (3, 0), (3, 1), (3, 2)]\n"
     ]
    }
   ],
   "source": [
    "import numpy as np\n",
    "import gurobipy as gp\n",
    "\n",
    "# Adjacency matrix of the graph\n",
    "A = np.array([[0, 1, 1, 0],\n",
    "              [1, 0, 1, 1],\n",
    "              [1, 1, 0, 1],\n",
    "              [0, 1, 1, 0]])\n",
    "\n",
    "# Create a new model\n",
    "m = gp.Model()\n",
    "\n",
    "# Add binary variables for each node in the graph, These variables represent whether a node is included in the subgraph or not.\n",
    "x = m.addVars(A.shape[0], A.shape[1], vtype=gp.GRB.BINARY)\n",
    "\n",
    "# Add objective function to maximize the number of edges in the motif\n",
    "m.setObjective(gp.quicksum(x[i, j] for i in range(A.shape[0]) for j in range(A.shape[1])), gp.GRB.MAXIMIZE)\n",
    "\n",
    "# Add constraints to form a clique\n",
    "for i in range(A.shape[0]):\n",
    "    m.addConstr(gp.quicksum(x[i, j] for j in range(A.shape[1])) == (A.shape[0]-1))\n",
    "    for j in range(i+1, A.shape[1]):\n",
    "            m.addConstr(x[i, j] == x[j, i])\n",
    "\n",
    "# Optimize the model\n",
    "m.optimize()\n",
    "\n",
    "# Print the optimal solution\n",
    "print(\"Optimal motif: \", [(i, j) for i in range(A.shape[0]) for j in range(A.shape[1]) if x[i, j].x == 1])\n"
   ]
  },
  {
   "cell_type": "markdown",
   "id": "87fa7fd1",
   "metadata": {},
   "source": [
    "# Motif search problem for MG graph using maximized near clique problem"
   ]
  },
  {
   "cell_type": "code",
   "execution_count": 25,
   "id": "3c512563",
   "metadata": {},
   "outputs": [
    {
     "name": "stdout",
     "output_type": "stream",
     "text": [
      "[[12, 1, 6], [12, 2, 5], [12, 2, 7], [12, 3, 6]]\n"
     ]
    }
   ],
   "source": [
    "\n",
    "import networkx as nx\n",
    "\n",
    "def find_max_cliques(G):\n",
    "    max_cliques = []\n",
    "    for clique in nx.find_cliques(G):\n",
    "        if len(clique) == nx.graph_clique_number(G):\n",
    "            max_cliques.append(clique)\n",
    "    return max_cliques\n",
    "\n",
    "# Example usage\n",
    "G = nx.Graph()\n",
    "G.add_edges_from([(1, 6), (1, 11),(1,12),(2,5),(2,7), (2,12), (3, 6), (3, 9),(3,12), (4, 9), (4, 10), (4, 11),(5,2),  (5, 11), (5,12),  (6,12),  (7, 9), (7, 12), (8, 9), (8, 10), (8,11)   ])\n",
    "\n",
    "max_cliques = find_max_cliques(G)\n",
    "print(max_cliques)"
   ]
  },
  {
   "cell_type": "markdown",
   "id": "ea7f8513",
   "metadata": {},
   "source": [
    "# Motif search problem for MG graph using largest density sub graph problem"
   ]
  },
  {
   "cell_type": "code",
   "execution_count": 29,
   "id": "5ffc555c",
   "metadata": {},
   "outputs": [
    {
     "name": "stdout",
     "output_type": "stream",
     "text": [
      "Collecting pulp\n",
      "  Downloading PuLP-2.7.0-py3-none-any.whl (14.3 MB)\n",
      "     -------------------------------------- 14.3/14.3 MB 530.8 kB/s eta 0:00:00\n",
      "Installing collected packages: pulp\n",
      "Successfully installed pulp-2.7.0\n",
      "Note: you may need to restart the kernel to use updated packages.\n"
     ]
    }
   ],
   "source": [
    "pip install pulp"
   ]
  },
  {
   "cell_type": "code",
   "execution_count": 30,
   "id": "8d28e5e7",
   "metadata": {},
   "outputs": [
    {
     "name": "stderr",
     "output_type": "stream",
     "text": [
      "C:\\Users\\velag\\anaconda3\\lib\\site-packages\\pulp\\pulp.py:1352: UserWarning: Spaces are not permitted in the name. Converted to '_'\n",
      "  warnings.warn(\"Spaces are not permitted in the name. Converted to '_'\")\n"
     ]
    },
    {
     "name": "stdout",
     "output_type": "stream",
     "text": [
      "Solution:\n",
      "(1, 2, 3)\n",
      "(1, 2, 4)\n",
      "(1, 3, 4)\n",
      "(2, 3, 4)\n"
     ]
    }
   ],
   "source": [
    "from itertools import combinations\n",
    "from pulp import *\n",
    "\n",
    "# Define the size of the motif (e.g. 3)\n",
    "motif_size = 3\n",
    "\n",
    "# Define the threshold for the density of the subgraphs (e.g. 0.5)\n",
    "density_threshold = 0.2\n",
    "\n",
    "# Define the number of nodes in the graph (e.g. 10)\n",
    "num_nodes = 4\n",
    "\n",
    "# Create a list of nodes\n",
    "\n",
    "nodes = [i for i in range(1,num_nodes+1)]\n",
    "\n",
    "# Create binary variables for each subgraph of the given size\n",
    "x = LpVariable.dicts('x', list(combinations(nodes, motif_size)), 0, 1, LpInteger)\n",
    "\n",
    "# Create the LP problem\n",
    "prob = LpProblem('Motif Search', LpMaximize)\n",
    "\n",
    "# Add objective function: maximize the number of subgraphs that have high density\n",
    "prob += lpSum([x[subgraph] for subgraph in x]), 'Objective'\n",
    "\n",
    "# Add constraints:\n",
    "# 1. Each subgraph can only be selected once\n",
    "for subgraph in x:\n",
    "    prob += x[subgraph] <= 1\n",
    "\n",
    "# 2. The density of each selected subgraph must be greater than the density threshold\n",
    "for subgraph in x:\n",
    "    prob += (2*len(subgraph) / (motif_size*(motif_size-1))) >= density_threshold\n",
    "\n",
    "# Solve the LP\n",
    "status = prob.solve()\n",
    "\n",
    "# Print the solution\n",
    "if status == LpStatusOptimal:\n",
    "    print('Solution:')\n",
    "    for subgraph in x:\n",
    "        if x[subgraph].varValue == 1:\n",
    "            print(subgraph)\n",
    "else:\n",
    "    print('No solution found')"
   ]
  },
  {
   "cell_type": "markdown",
   "id": "a3955ea0",
   "metadata": {},
   "source": [
    "# Considering Dataset"
   ]
  },
  {
   "cell_type": "code",
   "execution_count": 5,
   "id": "0a6d05b8",
   "metadata": {},
   "outputs": [
    {
     "ename": "SyntaxError",
     "evalue": "invalid syntax (2411441480.py, line 36)",
     "output_type": "error",
     "traceback": [
      "\u001b[0;36m  File \u001b[0;32m\"/var/folders/hr/2qgm7tx54_d1r7tsnhxhq26w0000gn/T/ipykernel_22894/2411441480.py\"\u001b[0;36m, line \u001b[0;32m36\u001b[0m\n\u001b[0;31m    import numpy as np\u001b[0m\n\u001b[0m    ^\u001b[0m\n\u001b[0;31mSyntaxError\u001b[0m\u001b[0;31m:\u001b[0m invalid syntax\n"
     ]
    }
   ],
   "source": [
    "#Inverse\n",
    "import numpy as np\n",
    "import pandas as pd\n",
    "import gurobipy as gp\n",
    "\n",
    "# Read PPI data into a pandas dataframe\n",
    "data = pd.read_csv(\"ppi_data.csv\")\n",
    "\n",
    "# Extract the list of proteins from the dataframe\n",
    "proteins = list(set(data[\"protein1\"]).union(set(data[\"protein2\"])))\n",
    "\n",
    "# Create a dictionary to map proteins to indices\n",
    "protein_index = {proteins[i]: i for i in range(len(proteins))}\n",
    "\n",
    "# Create an adjacency matrix from the PPI data\n",
    "A = np.zeros((len(proteins), len(proteins)))\n",
    "for i in range(data.shape[0]):\n",
    "    protein1 = protein_index[data.iloc[i][\"protein1\"]]\n",
    "    protein2 = protein_index[data.iloc[i][\"protein2\"]]\n",
    "    A[protein1, protein2] = 1\n",
    "    A[protein2, protein1] = 1\n",
    "\n",
    "# Create a new model\n",
    "m = gp.Model()\n",
    "\n",
    "# Add binary variables for each protein\n",
    "x = m.addVars(len(proteins), vtype=gp.GRB.BINARY)\n",
    "\n",
    "# Add objective function to minimize the number of edges in the subgraph\n",
    "m.setObjective(gp.quicksum(x[i]*x[j] for i in range(len(proteins)) for j in range(len(prote\n",
    "\n",
    "                                                                                      \n",
    "                                                                                      \n",
    "                                                                                      \n",
    "#lARGEST\n",
    "                                                                                      import numpy as np\n",
    "import pandas as pd\n",
    "import gurobipy as gp\n",
    "\n",
    "# Read PPI data into a pandas dataframe\n",
    "data = pd.read_csv(\"ppi_data.csv\")\n",
    "\n",
    "# Extract the list of proteins from the dataframe\n",
    "proteins = list(set(data[\"protein1\"]).union(set(data[\"protein2\"])))\n",
    "\n",
    "# Create a dictionary to map proteins to indices\n",
    "protein_index = {proteins[i]: i for i in range(len(proteins))}\n",
    "\n",
    "# Create an adjacency matrix from the PPI data\n",
    "A = np.zeros((len(proteins), len(proteins)))\n",
    "for i in range(data.shape[0]):\n",
    "    protein1 = protein_index[data.iloc[i][\"protein1\"]]\n",
    "    protein2 = protein_index[data.iloc[i][\"protein2\"]]\n",
    "    A[protein1, protein2] = 1\n",
    "    A[protein2, protein1] = 1\n",
    "\n",
    "# Create a new model\n",
    "m = gp.Model()\n",
    "\n",
    "# Add binary variables for each protein\n",
    "x = m.addVars(len(proteins), vtype=gp.GRB.BINARY)\n",
    "\n",
    "# Add objective function to maximize density\n",
    "m.setObjective(gp.quicksum(x[i]*x[j] for i in range(len(proteins)) for j in range(len(proteins)) if A[i,j] == 1), gp.GRB.MAXIMIZE)\n",
    "\n",
    "# Add constraints for the adjacency matrix\n",
    "for i in range(len(proteins)):\n",
    "    for j in range(len(proteins)):\n",
    "        if A[i,j] == 1:\n",
    "            m.addConstr(x[i] + x[j] <= 1)\n",
    "\n",
    "# Optimize the model\n",
    "m.optimize()\n",
    "\n",
    "# Print the optimal solution\n",
    "print(\"Optimal subgraph: \", [proteins[i] for i in range(len(proteins)) if x[i].x == 1])\n",
    "\n",
    "                                                                                      "
   ]
  }
 ],
 "metadata": {
  "kernelspec": {
   "display_name": "Python 3 (ipykernel)",
   "language": "python",
   "name": "python3"
  },
  "language_info": {
   "codemirror_mode": {
    "name": "ipython",
    "version": 3
   },
   "file_extension": ".py",
   "mimetype": "text/x-python",
   "name": "python",
   "nbconvert_exporter": "python",
   "pygments_lexer": "ipython3",
   "version": "3.9.13"
  }
 },
 "nbformat": 4,
 "nbformat_minor": 5
}
